{
 "cells": [
  {
   "attachments": {},
   "cell_type": "markdown",
   "metadata": {},
   "source": [
    "# DDA3020 Assignment III\n",
    "\n",
    "*Chen Zekai 陈泽楷*\n",
    "\n",
    "*120090539@link.cuhk.edu.cn*\n",
    "\n",
    "*School of Science and Engineering*\n",
    "\n",
    "*The Chinese University of Hongkong, Shenzhen*\n",
    "\n",
    "*2023.04.25*"
   ]
  },
  {
   "cell_type": "code",
   "execution_count": 8,
   "metadata": {},
   "outputs": [],
   "source": [
    "import numpy as np\n",
    "import pandas as pd\n",
    "import seaborn as sns\n",
    "import matplotlib.pyplot as plt\n",
    "from sklearn.neural_network import MLPClassifier\n",
    "from sklearn.metrics import classification_report, recall_score, precision_score, confusion_matrix"
   ]
  },
  {
   "attachments": {},
   "cell_type": "markdown",
   "metadata": {},
   "source": [
    "## Data preprocessing"
   ]
  },
  {
   "cell_type": "code",
   "execution_count": 9,
   "metadata": {},
   "outputs": [],
   "source": [
    "#Read the training dataset\n",
    "df_train = pd.read_csv(\"./train.csv\") \n",
    "\n",
    "# Drop incomplete data point\n",
    "df_train.dropna(inplace=True)\n"
   ]
  },
  {
   "cell_type": "code",
   "execution_count": 10,
   "metadata": {},
   "outputs": [],
   "source": [
    "#Read the testing dataset\n",
    "df_test  = pd.read_csv(\"./test.csv\")\n",
    "\n",
    "# Drop incomplete data point\n",
    "df_test.dropna(inplace=True)"
   ]
  },
  {
   "cell_type": "code",
   "execution_count": 11,
   "metadata": {},
   "outputs": [],
   "source": [
    "X_train = df_train.iloc[0:60000, 2:786].values\n",
    "y_train = df_train.loc[:,['Category']].values.ravel()"
   ]
  },
  {
   "cell_type": "code",
   "execution_count": 12,
   "metadata": {},
   "outputs": [],
   "source": [
    "X_test  = df_test.iloc[0:10000,1:785].values\n",
    "y_test  = df_test.loc[:,['label']].values.ravel()"
   ]
  },
  {
   "cell_type": "code",
   "execution_count": 13,
   "metadata": {},
   "outputs": [],
   "source": [
    "Hidden_Layer = [(50,),(50,50),(50,50,50),(200,),(200,200),(200,200,200),(784,),(784,784),(784,784,784)]\n",
    "Solver = ['sgd','adam']"
   ]
  },
  {
   "attachments": {},
   "cell_type": "markdown",
   "metadata": {},
   "source": [
    "## Nine situation below in sgd Solver"
   ]
  },
  {
   "cell_type": "code",
   "execution_count": 14,
   "metadata": {},
   "outputs": [
    {
     "name": "stdout",
     "output_type": "stream",
     "text": [
      "--------------------------\n",
      "The solver =  sgd\n",
      "The number of hidden layers =  1\n",
      "The number of hidden nodes =  50\n",
      "Train Accuracy : 0.8719166666666667\n",
      "Test  Accuracy : 0.8519\n"
     ]
    }
   ],
   "source": [
    "i = Solver[0]\n",
    "j = Hidden_Layer[0]\n",
    "MLP_Classifier = MLPClassifier(hidden_layer_sizes=j, \n",
    "                                       solver=i,\n",
    "                                       activation='tanh', alpha=0.0001, \n",
    "                                       learning_rate='adaptive',\n",
    "                                       max_iter=2000,\n",
    "                                       learning_rate_init=0.001,\n",
    "                                       random_state=2)\n",
    "MLP_Classifier.fit(X_train, y_train)\n",
    "\n",
    "print(\"--------------------------\")\n",
    "print(\"The solver = \",i)\n",
    "print(\"The number of hidden layers = \",len(j))\n",
    "print(\"The number of hidden nodes = \",j[0])\n",
    "print(f\"Train Accuracy : {MLP_Classifier.score(X_train, y_train)}\")\n",
    "print(f\"Test  Accuracy : {MLP_Classifier.score(X_test, y_test)}\")"
   ]
  },
  {
   "cell_type": "code",
   "execution_count": 15,
   "metadata": {},
   "outputs": [
    {
     "name": "stdout",
     "output_type": "stream",
     "text": [
      "--------------------------\n",
      "The solver =  sgd\n",
      "The number of hidden layers =  2\n",
      "The number of hidden nodes =  50\n",
      "Train Accuracy : 0.8580833333333333\n",
      "Test  Accuracy : 0.8449\n"
     ]
    }
   ],
   "source": [
    "i = Solver[0]\n",
    "j = Hidden_Layer[1]\n",
    "MLP_Classifier = MLPClassifier(hidden_layer_sizes=j, \n",
    "                                       solver=i,\n",
    "                                       activation='tanh', alpha=0.0001, \n",
    "                                       learning_rate='adaptive',\n",
    "                                       max_iter=2000,\n",
    "                                       learning_rate_init=0.001,\n",
    "                                       random_state=2)\n",
    "MLP_Classifier.fit(X_train, y_train)\n",
    "\n",
    "print(\"--------------------------\")\n",
    "print(\"The solver = \",i)\n",
    "print(\"The number of hidden layers = \",len(j))\n",
    "print(\"The number of hidden nodes = \",j[0])\n",
    "print(f\"Train Accuracy : {MLP_Classifier.score(X_train, y_train)}\")\n",
    "print(f\"Test  Accuracy : {MLP_Classifier.score(X_test, y_test)}\")"
   ]
  },
  {
   "cell_type": "code",
   "execution_count": 16,
   "metadata": {},
   "outputs": [
    {
     "name": "stdout",
     "output_type": "stream",
     "text": [
      "--------------------------\n",
      "The solver =  sgd\n",
      "The number of hidden layers =  3\n",
      "The number of hidden nodes =  50\n",
      "Train Accuracy : 0.86935\n",
      "Test  Accuracy : 0.8486\n"
     ]
    }
   ],
   "source": [
    "i = Solver[0]\n",
    "j = Hidden_Layer[2]\n",
    "MLP_Classifier = MLPClassifier(hidden_layer_sizes=j, \n",
    "                                       solver=i,\n",
    "                                       activation='tanh', alpha=0.0001, \n",
    "                                       learning_rate='adaptive',\n",
    "                                       max_iter=2000,\n",
    "                                       learning_rate_init=0.001,\n",
    "                                       random_state=2)\n",
    "MLP_Classifier.fit(X_train, y_train)\n",
    "\n",
    "print(\"--------------------------\")\n",
    "print(\"The solver = \",i)\n",
    "print(\"The number of hidden layers = \",len(j))\n",
    "print(\"The number of hidden nodes = \",j[0])\n",
    "print(f\"Train Accuracy : {MLP_Classifier.score(X_train, y_train)}\")\n",
    "print(f\"Test  Accuracy : {MLP_Classifier.score(X_test, y_test)}\")"
   ]
  },
  {
   "cell_type": "code",
   "execution_count": 17,
   "metadata": {},
   "outputs": [
    {
     "name": "stdout",
     "output_type": "stream",
     "text": [
      "--------------------------\n",
      "The solver =  sgd\n",
      "The number of hidden layers =  1\n",
      "The number of hidden nodes =  200\n",
      "Train Accuracy : 0.8907333333333334\n",
      "Test  Accuracy : 0.8643\n"
     ]
    }
   ],
   "source": [
    "i = Solver[0]\n",
    "j = Hidden_Layer[3]\n",
    "MLP_Classifier = MLPClassifier(hidden_layer_sizes=j, \n",
    "                                       solver=i,\n",
    "                                       activation='tanh', alpha=0.0001, \n",
    "                                       learning_rate='adaptive',\n",
    "                                       max_iter=2000,\n",
    "                                       learning_rate_init=0.001,\n",
    "                                       random_state=2)\n",
    "MLP_Classifier.fit(X_train, y_train)\n",
    "\n",
    "print(\"--------------------------\")\n",
    "print(\"The solver = \",i)\n",
    "print(\"The number of hidden layers = \",len(j))\n",
    "print(\"The number of hidden nodes = \",j[0])\n",
    "print(f\"Train Accuracy : {MLP_Classifier.score(X_train, y_train)}\")\n",
    "print(f\"Test  Accuracy : {MLP_Classifier.score(X_test, y_test)}\")"
   ]
  },
  {
   "cell_type": "code",
   "execution_count": 18,
   "metadata": {},
   "outputs": [
    {
     "name": "stdout",
     "output_type": "stream",
     "text": [
      "--------------------------\n",
      "The solver =  sgd\n",
      "The number of hidden layers =  2\n",
      "The number of hidden nodes =  200\n",
      "Train Accuracy : 0.9011666666666667\n",
      "Test  Accuracy : 0.8652\n"
     ]
    }
   ],
   "source": [
    "i = Solver[0]\n",
    "j = Hidden_Layer[4]\n",
    "MLP_Classifier = MLPClassifier(hidden_layer_sizes=j, \n",
    "                                       solver=i,\n",
    "                                       activation='tanh', alpha=0.0001, \n",
    "                                       learning_rate='adaptive',\n",
    "                                       max_iter=2000,\n",
    "                                       learning_rate_init=0.001,\n",
    "                                       random_state=2)\n",
    "MLP_Classifier.fit(X_train, y_train)\n",
    "\n",
    "print(\"--------------------------\")\n",
    "print(\"The solver = \",i)\n",
    "print(\"The number of hidden layers = \",len(j))\n",
    "print(\"The number of hidden nodes = \",j[0])\n",
    "print(f\"Train Accuracy : {MLP_Classifier.score(X_train, y_train)}\")\n",
    "print(f\"Test  Accuracy : {MLP_Classifier.score(X_test, y_test)}\")"
   ]
  },
  {
   "cell_type": "code",
   "execution_count": 19,
   "metadata": {},
   "outputs": [
    {
     "name": "stdout",
     "output_type": "stream",
     "text": [
      "--------------------------\n",
      "The solver =  sgd\n",
      "The number of hidden layers =  3\n",
      "The number of hidden nodes =  200\n",
      "Train Accuracy : 0.8961666666666667\n",
      "Test  Accuracy : 0.8639\n"
     ]
    }
   ],
   "source": [
    "i = Solver[0]\n",
    "j = Hidden_Layer[5]\n",
    "MLP_Classifier = MLPClassifier(hidden_layer_sizes=j, \n",
    "                                       solver=i,\n",
    "                                       activation='tanh', alpha=0.0001, \n",
    "                                       learning_rate='adaptive',\n",
    "                                       max_iter=2000,\n",
    "                                       learning_rate_init=0.001,\n",
    "                                       random_state=2)\n",
    "MLP_Classifier.fit(X_train, y_train)\n",
    "\n",
    "print(\"--------------------------\")\n",
    "print(\"The solver = \",i)\n",
    "print(\"The number of hidden layers = \",len(j))\n",
    "print(\"The number of hidden nodes = \",j[0])\n",
    "print(f\"Train Accuracy : {MLP_Classifier.score(X_train, y_train)}\")\n",
    "print(f\"Test  Accuracy : {MLP_Classifier.score(X_test, y_test)}\")"
   ]
  },
  {
   "cell_type": "code",
   "execution_count": 20,
   "metadata": {},
   "outputs": [
    {
     "name": "stdout",
     "output_type": "stream",
     "text": [
      "--------------------------\n",
      "The solver =  sgd\n",
      "The number of hidden layers =  1\n",
      "The number of hidden nodes =  784\n",
      "Train Accuracy : 0.9320666666666667\n",
      "Test  Accuracy : 0.8778\n"
     ]
    }
   ],
   "source": [
    "i = Solver[0]\n",
    "j = Hidden_Layer[6]\n",
    "MLP_Classifier = MLPClassifier(hidden_layer_sizes=j, \n",
    "                                       solver=i,\n",
    "                                       activation='tanh', alpha=0.0001, \n",
    "                                       learning_rate='adaptive',\n",
    "                                       max_iter=2000,\n",
    "                                       learning_rate_init=0.001,\n",
    "                                       random_state=2)\n",
    "MLP_Classifier.fit(X_train, y_train)\n",
    "\n",
    "print(\"--------------------------\")\n",
    "print(\"The solver = \",i)\n",
    "print(\"The number of hidden layers = \",len(j))\n",
    "print(\"The number of hidden nodes = \",j[0])\n",
    "print(f\"Train Accuracy : {MLP_Classifier.score(X_train, y_train)}\")\n",
    "print(f\"Test  Accuracy : {MLP_Classifier.score(X_test, y_test)}\")"
   ]
  },
  {
   "cell_type": "code",
   "execution_count": 21,
   "metadata": {},
   "outputs": [
    {
     "name": "stdout",
     "output_type": "stream",
     "text": [
      "--------------------------\n",
      "The solver =  sgd\n",
      "The number of hidden layers =  2\n",
      "The number of hidden nodes =  784\n",
      "Train Accuracy : 0.9252666666666667\n",
      "Test  Accuracy : 0.874\n"
     ]
    }
   ],
   "source": [
    "i = Solver[0]\n",
    "j = Hidden_Layer[7]\n",
    "MLP_Classifier = MLPClassifier(hidden_layer_sizes=j, \n",
    "                                       solver=i,\n",
    "                                       activation='tanh', alpha=0.0001, \n",
    "                                       learning_rate='adaptive',\n",
    "                                       max_iter=2000,\n",
    "                                       learning_rate_init=0.001,\n",
    "                                       random_state=2)\n",
    "MLP_Classifier.fit(X_train, y_train)\n",
    "\n",
    "print(\"--------------------------\")\n",
    "print(\"The solver = \",i)\n",
    "print(\"The number of hidden layers = \",len(j))\n",
    "print(\"The number of hidden nodes = \",j[0])\n",
    "print(f\"Train Accuracy : {MLP_Classifier.score(X_train, y_train)}\")\n",
    "print(f\"Test  Accuracy : {MLP_Classifier.score(X_test, y_test)}\")"
   ]
  },
  {
   "cell_type": "code",
   "execution_count": 22,
   "metadata": {},
   "outputs": [
    {
     "name": "stdout",
     "output_type": "stream",
     "text": [
      "--------------------------\n",
      "The solver =  sgd\n",
      "The number of hidden layers =  3\n",
      "The number of hidden nodes =  784\n",
      "Train Accuracy : 0.9340833333333334\n",
      "Test  Accuracy : 0.8669\n"
     ]
    }
   ],
   "source": [
    "i = Solver[0]\n",
    "j = Hidden_Layer[8]\n",
    "MLP_Classifier = MLPClassifier(hidden_layer_sizes=j, \n",
    "                                       solver=i,\n",
    "                                       activation='tanh', alpha=0.0001, \n",
    "                                       learning_rate='adaptive',\n",
    "                                       max_iter=2000,\n",
    "                                       learning_rate_init=0.001,\n",
    "                                       random_state=2)\n",
    "MLP_Classifier.fit(X_train, y_train)\n",
    "\n",
    "print(\"--------------------------\")\n",
    "print(\"The solver = \",i)\n",
    "print(\"The number of hidden layers = \",len(j))\n",
    "print(\"The number of hidden nodes = \",j[0])\n",
    "print(f\"Train Accuracy : {MLP_Classifier.score(X_train, y_train)}\")\n",
    "print(f\"Test  Accuracy : {MLP_Classifier.score(X_test, y_test)}\")"
   ]
  },
  {
   "attachments": {},
   "cell_type": "markdown",
   "metadata": {},
   "source": [
    "## Nine situation below in Adam Solver"
   ]
  },
  {
   "cell_type": "code",
   "execution_count": 23,
   "metadata": {},
   "outputs": [
    {
     "name": "stdout",
     "output_type": "stream",
     "text": [
      "--------------------------\n",
      "The solver =  adam\n",
      "The number of hidden layers =  1\n",
      "The number of hidden nodes =  50\n",
      "Train Accuracy : 0.7773166666666667\n",
      "Test  Accuracy : 0.7753\n"
     ]
    }
   ],
   "source": [
    "i = Solver[1]\n",
    "j = Hidden_Layer[0]\n",
    "MLP_Classifier = MLPClassifier(hidden_layer_sizes=j, \n",
    "                                       solver=i,\n",
    "                                       activation='tanh', alpha=0.0001, \n",
    "                                       learning_rate='adaptive',\n",
    "                                       max_iter=2000,\n",
    "                                       learning_rate_init=0.001,\n",
    "                                       random_state=2)\n",
    "MLP_Classifier.fit(X_train, y_train)\n",
    "\n",
    "print(\"--------------------------\")\n",
    "print(\"The solver = \",i)\n",
    "print(\"The number of hidden layers = \",len(j))\n",
    "print(\"The number of hidden nodes = \",j[0])\n",
    "print(f\"Train Accuracy : {MLP_Classifier.score(X_train, y_train)}\")\n",
    "print(f\"Test  Accuracy : {MLP_Classifier.score(X_test, y_test)}\")"
   ]
  },
  {
   "cell_type": "code",
   "execution_count": 24,
   "metadata": {},
   "outputs": [
    {
     "name": "stdout",
     "output_type": "stream",
     "text": [
      "--------------------------\n",
      "The solver =  adam\n",
      "The number of hidden layers =  2\n",
      "The number of hidden nodes =  50\n",
      "Train Accuracy : 0.7964666666666667\n",
      "Test  Accuracy : 0.7963\n"
     ]
    }
   ],
   "source": [
    "i = Solver[1]\n",
    "j = Hidden_Layer[1]\n",
    "MLP_Classifier = MLPClassifier(hidden_layer_sizes=j, \n",
    "                                       solver=i,\n",
    "                                       activation='tanh', alpha=0.0001, \n",
    "                                       learning_rate='adaptive',\n",
    "                                       max_iter=2000,\n",
    "                                       learning_rate_init=0.001,\n",
    "                                       random_state=2)\n",
    "MLP_Classifier.fit(X_train, y_train)\n",
    "\n",
    "print(\"--------------------------\")\n",
    "print(\"The solver = \",i)\n",
    "print(\"The number of hidden layers = \",len(j))\n",
    "print(\"The number of hidden nodes = \",j[0])\n",
    "print(f\"Train Accuracy : {MLP_Classifier.score(X_train, y_train)}\")\n",
    "print(f\"Test  Accuracy : {MLP_Classifier.score(X_test, y_test)}\")"
   ]
  },
  {
   "cell_type": "code",
   "execution_count": 25,
   "metadata": {},
   "outputs": [
    {
     "name": "stdout",
     "output_type": "stream",
     "text": [
      "--------------------------\n",
      "The solver =  adam\n",
      "The number of hidden layers =  3\n",
      "The number of hidden nodes =  50\n",
      "Train Accuracy : 0.7615333333333333\n",
      "Test  Accuracy : 0.7643\n"
     ]
    }
   ],
   "source": [
    "i = Solver[1]\n",
    "j = Hidden_Layer[2]\n",
    "MLP_Classifier = MLPClassifier(hidden_layer_sizes=j, \n",
    "                                       solver=i,\n",
    "                                       activation='tanh', alpha=0.0001, \n",
    "                                       learning_rate='adaptive',\n",
    "                                       max_iter=2000,\n",
    "                                       learning_rate_init=0.001,\n",
    "                                       random_state=2)\n",
    "MLP_Classifier.fit(X_train, y_train)\n",
    "\n",
    "print(\"--------------------------\")\n",
    "print(\"The solver = \",i)\n",
    "print(\"The number of hidden layers = \",len(j))\n",
    "print(\"The number of hidden nodes = \",j[0])\n",
    "print(f\"Train Accuracy : {MLP_Classifier.score(X_train, y_train)}\")\n",
    "print(f\"Test  Accuracy : {MLP_Classifier.score(X_test, y_test)}\")"
   ]
  },
  {
   "cell_type": "code",
   "execution_count": 26,
   "metadata": {},
   "outputs": [
    {
     "name": "stdout",
     "output_type": "stream",
     "text": [
      "--------------------------\n",
      "The solver =  adam\n",
      "The number of hidden layers =  1\n",
      "The number of hidden nodes =  200\n",
      "Train Accuracy : 0.7362333333333333\n",
      "Test  Accuracy : 0.7393\n"
     ]
    }
   ],
   "source": [
    "i = Solver[1]\n",
    "j = Hidden_Layer[3]\n",
    "MLP_Classifier = MLPClassifier(hidden_layer_sizes=j, \n",
    "                                       solver=i,\n",
    "                                       activation='tanh', alpha=0.0001, \n",
    "                                       learning_rate='adaptive',\n",
    "                                       max_iter=2000,\n",
    "                                       learning_rate_init=0.001,\n",
    "                                       random_state=2)\n",
    "MLP_Classifier.fit(X_train, y_train)\n",
    "\n",
    "print(\"--------------------------\")\n",
    "print(\"The solver = \",i)\n",
    "print(\"The number of hidden layers = \",len(j))\n",
    "print(\"The number of hidden nodes = \",j[0])\n",
    "print(f\"Train Accuracy : {MLP_Classifier.score(X_train, y_train)}\")\n",
    "print(f\"Test  Accuracy : {MLP_Classifier.score(X_test, y_test)}\")"
   ]
  },
  {
   "cell_type": "code",
   "execution_count": 27,
   "metadata": {},
   "outputs": [
    {
     "name": "stdout",
     "output_type": "stream",
     "text": [
      "--------------------------\n",
      "The solver =  adam\n",
      "The number of hidden layers =  2\n",
      "The number of hidden nodes =  200\n",
      "Train Accuracy : 0.7740833333333333\n",
      "Test  Accuracy : 0.7728\n"
     ]
    }
   ],
   "source": [
    "i = Solver[1]\n",
    "j = Hidden_Layer[4]\n",
    "MLP_Classifier = MLPClassifier(hidden_layer_sizes=j, \n",
    "                                       solver=i,\n",
    "                                       activation='tanh', alpha=0.0001, \n",
    "                                       learning_rate='adaptive',\n",
    "                                       max_iter=2000,\n",
    "                                       learning_rate_init=0.001,\n",
    "                                       random_state=2)\n",
    "MLP_Classifier.fit(X_train, y_train)\n",
    "\n",
    "print(\"--------------------------\")\n",
    "print(\"The solver = \",i)\n",
    "print(\"The number of hidden layers = \",len(j))\n",
    "print(\"The number of hidden nodes = \",j[0])\n",
    "print(f\"Train Accuracy : {MLP_Classifier.score(X_train, y_train)}\")\n",
    "print(f\"Test  Accuracy : {MLP_Classifier.score(X_test, y_test)}\")"
   ]
  },
  {
   "cell_type": "code",
   "execution_count": 28,
   "metadata": {},
   "outputs": [
    {
     "name": "stdout",
     "output_type": "stream",
     "text": [
      "--------------------------\n",
      "The solver =  adam\n",
      "The number of hidden layers =  3\n",
      "The number of hidden nodes =  200\n",
      "Train Accuracy : 0.7533\n",
      "Test  Accuracy : 0.7496\n"
     ]
    }
   ],
   "source": [
    "i = Solver[1]\n",
    "j = Hidden_Layer[5]\n",
    "MLP_Classifier = MLPClassifier(hidden_layer_sizes=j, \n",
    "                                       solver=i,\n",
    "                                       activation='tanh', alpha=0.0001, \n",
    "                                       learning_rate='adaptive',\n",
    "                                       max_iter=2000,\n",
    "                                       learning_rate_init=0.001,\n",
    "                                       random_state=2)\n",
    "MLP_Classifier.fit(X_train, y_train)\n",
    "\n",
    "print(\"--------------------------\")\n",
    "print(\"The solver = \",i)\n",
    "print(\"The number of hidden layers = \",len(j))\n",
    "print(\"The number of hidden nodes = \",j[0])\n",
    "print(f\"Train Accuracy : {MLP_Classifier.score(X_train, y_train)}\")\n",
    "print(f\"Test  Accuracy : {MLP_Classifier.score(X_test, y_test)}\")"
   ]
  },
  {
   "cell_type": "code",
   "execution_count": 29,
   "metadata": {},
   "outputs": [
    {
     "name": "stdout",
     "output_type": "stream",
     "text": [
      "--------------------------\n",
      "The solver =  adam\n",
      "The number of hidden layers =  1\n",
      "The number of hidden nodes =  784\n",
      "Train Accuracy : 0.78225\n",
      "Test  Accuracy : 0.7832\n"
     ]
    }
   ],
   "source": [
    "i = Solver[1]\n",
    "j = Hidden_Layer[6]\n",
    "MLP_Classifier = MLPClassifier(hidden_layer_sizes=j, \n",
    "                                       solver=i,\n",
    "                                       activation='tanh', alpha=0.0001, \n",
    "                                       learning_rate='adaptive',\n",
    "                                       max_iter=2000,\n",
    "                                       learning_rate_init=0.001,\n",
    "                                       random_state=2)\n",
    "MLP_Classifier.fit(X_train, y_train)\n",
    "\n",
    "print(\"--------------------------\")\n",
    "print(\"The solver = \",i)\n",
    "print(\"The number of hidden layers = \",len(j))\n",
    "print(\"The number of hidden nodes = \",j[0])\n",
    "print(f\"Train Accuracy : {MLP_Classifier.score(X_train, y_train)}\")\n",
    "print(f\"Test  Accuracy : {MLP_Classifier.score(X_test, y_test)}\")"
   ]
  },
  {
   "cell_type": "code",
   "execution_count": 30,
   "metadata": {},
   "outputs": [
    {
     "name": "stdout",
     "output_type": "stream",
     "text": [
      "--------------------------\n",
      "The solver =  adam\n",
      "The number of hidden layers =  2\n",
      "The number of hidden nodes =  784\n",
      "Train Accuracy : 0.7764166666666666\n",
      "Test  Accuracy : 0.7753\n"
     ]
    }
   ],
   "source": [
    "i = Solver[1]\n",
    "j = Hidden_Layer[7]\n",
    "MLP_Classifier = MLPClassifier(hidden_layer_sizes=j, \n",
    "                                       solver=i,\n",
    "                                       activation='tanh', alpha=0.0001, \n",
    "                                       learning_rate='adaptive',\n",
    "                                       max_iter=2000,\n",
    "                                       learning_rate_init=0.001,\n",
    "                                       random_state=2)\n",
    "MLP_Classifier.fit(X_train, y_train)\n",
    "\n",
    "print(\"--------------------------\")\n",
    "print(\"The solver = \",i)\n",
    "print(\"The number of hidden layers = \",len(j))\n",
    "print(\"The number of hidden nodes = \",j[0])\n",
    "print(f\"Train Accuracy : {MLP_Classifier.score(X_train, y_train)}\")\n",
    "print(f\"Test  Accuracy : {MLP_Classifier.score(X_test, y_test)}\")"
   ]
  },
  {
   "cell_type": "code",
   "execution_count": 31,
   "metadata": {},
   "outputs": [
    {
     "name": "stdout",
     "output_type": "stream",
     "text": [
      "--------------------------\n",
      "The solver =  adam\n",
      "The number of hidden layers =  3\n",
      "The number of hidden nodes =  784\n",
      "Train Accuracy : 0.7414\n",
      "Test  Accuracy : 0.7357\n"
     ]
    }
   ],
   "source": [
    "i = Solver[1]\n",
    "j = Hidden_Layer[8]\n",
    "MLP_Classifier = MLPClassifier(hidden_layer_sizes=j, \n",
    "                                       solver=i,\n",
    "                                       activation='tanh', alpha=0.0001, \n",
    "                                       learning_rate='adaptive',\n",
    "                                       max_iter=2000,\n",
    "                                       learning_rate_init=0.001,\n",
    "                                       random_state=2)\n",
    "MLP_Classifier.fit(X_train, y_train)\n",
    "\n",
    "print(\"--------------------------\")\n",
    "print(\"The solver = \",i)\n",
    "print(\"The number of hidden layers = \",len(j))\n",
    "print(\"The number of hidden nodes = \",j[0])\n",
    "print(f\"Train Accuracy : {MLP_Classifier.score(X_train, y_train)}\")\n",
    "print(f\"Test  Accuracy : {MLP_Classifier.score(X_test, y_test)}\")"
   ]
  }
 ],
 "metadata": {
  "kernelspec": {
   "display_name": "base",
   "language": "python",
   "name": "python3"
  },
  "language_info": {
   "codemirror_mode": {
    "name": "ipython",
    "version": 3
   },
   "file_extension": ".py",
   "mimetype": "text/x-python",
   "name": "python",
   "nbconvert_exporter": "python",
   "pygments_lexer": "ipython3",
   "version": "3.9.16"
  },
  "orig_nbformat": 4
 },
 "nbformat": 4,
 "nbformat_minor": 2
}
